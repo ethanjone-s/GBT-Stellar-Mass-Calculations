{
 "cells": [
  {
   "cell_type": "code",
   "execution_count": 20,
   "id": "7baaeba3-c215-47be-8eda-9160192d1d3d",
   "metadata": {},
   "outputs": [],
   "source": [
    "import os\n",
    "import sys\n",
    "homedir = os.getenv('HOME')\n",
    "sys.path.append(homedir+'/github/APPSS/python')"
   ]
  },
  {
   "cell_type": "code",
   "execution_count": 30,
   "id": "c0ae2f62-3170-4d84-a314-d869d3e82391",
   "metadata": {},
   "outputs": [],
   "source": [
    "cwd = homedir+'/Desktop/gbtresearch/'\n",
    "os.chdir(cwd)\n",
    "path2data=cwd+'/data/gbt22a_430_sample_legacy.fits'"
   ]
  },
  {
   "cell_type": "code",
   "execution_count": 31,
   "id": "5377d949-3a81-426d-b509-7a23245c2ff1",
   "metadata": {},
   "outputs": [],
   "source": [
    "###########################\n",
    "\n",
    "%run functions.py\n",
    "\n",
    "###########################"
   ]
  },
  {
   "cell_type": "code",
   "execution_count": 32,
   "id": "421056ef-e348-4a9a-b29e-aa663ad1861e",
   "metadata": {},
   "outputs": [],
   "source": [
    "# get the table\n",
    "GBT=gettable(path2data)"
   ]
  },
  {
   "cell_type": "code",
   "execution_count": 38,
   "id": "3fa004b9-0df0-4bef-8244-f06c0a05b7e5",
   "metadata": {},
   "outputs": [
    {
     "data": {
      "text/plain": [
       "[156.797485, 163.509995, 242.48082, 248.62001, 277.605011]"
      ]
     },
     "execution_count": 38,
     "metadata": {},
     "output_type": "execute_result"
    }
   ],
   "source": [
    "# get the data vals\n",
    "ra,dec,galname=getgaldata(GBT)\n",
    "ra_test,dec_test,galname_test=getgaldata(GBT[5:10])\n",
    "ra_test"
   ]
  },
  {
   "cell_type": "code",
   "execution_count": 34,
   "id": "0f4ec8b4-1335-465e-9b71-9776e550bedb",
   "metadata": {},
   "outputs": [
    {
     "name": "stdout",
     "output_type": "stream",
     "text": [
      "ra=206, dec=206, names=206\n"
     ]
    }
   ],
   "source": [
    "print(f'ra={len(ra)}, dec={len(dec)}, names={len(galname)}')"
   ]
  },
  {
   "cell_type": "code",
   "execution_count": null,
   "id": "b7800b4c-5652-4d0e-9bd2-d1811d17e827",
   "metadata": {
    "tags": []
   },
   "outputs": [],
   "source": [
    "allimfiles1,alljpgfiles1,allwise1,allnoise1=getall(ra_test,dec_test,galname_test)"
   ]
  },
  {
   "cell_type": "code",
   "execution_count": 27,
   "id": "f2a32c80-04d0-4f36-9008-5f3d97333712",
   "metadata": {},
   "outputs": [],
   "source": [
    "#allimfiles,alljpgfiles,allwise,allnoise=getall(ra,dec,galname)"
   ]
  },
  {
   "cell_type": "code",
   "execution_count": 28,
   "id": "285df11a-66de-4d1b-bdc3-23e1accc4f46",
   "metadata": {
    "collapsed": true,
    "jupyter": {
     "outputs_hidden": true
    },
    "tags": []
   },
   "outputs": [
    {
     "name": "stdout",
     "output_type": "stream",
     "text": [
      "*allimfiles*: [[], [], ['AGC004455-legacy-120-g.fits', 'AGC004455-legacy-120-r.fits', 'AGC004455-legacy-120-z.fits'], ['AGC004510-legacy-120-g.fits', 'AGC004510-legacy-120-r.fits', 'AGC004510-legacy-120-z.fits'], ['AGC005066-legacy-120-g.fits', 'AGC005066-legacy-120-r.fits', 'AGC005066-legacy-120-z.fits']]\n",
      "length: 5\n",
      "\n",
      "*alljpgfiles*: [[], [], ['AGC004455-legacy-120.jpg'], ['AGC004510-legacy-120.jpg'], ['AGC005066-legacy-120.jpg']]\n",
      "length: 5\n",
      "\n",
      "*allwise*: [[], [], ['AGC004455-unwise-1285m016-w1-img-m.fits', 'AGC004455-unwise-1285m016-w2-img-m.fits', 'AGC004455-unwise-1285m016-w3-img-m.fits', 'AGC004455-unwise-1285m016-w4-img-m.fits'], ['AGC004510-unwise-w1-coadd.fits', 'AGC004510-unwise-w2-coadd.fits', 'AGC004510-unwise-w3-coadd.fits', 'AGC004510-unwise-w4-coadd.fits'], ['AGC005066-unwise-1418p469-w1-img-m.fits', 'AGC005066-unwise-1418p469-w2-img-m.fits', 'AGC005066-unwise-1418p469-w3-img-m.fits', 'AGC005066-unwise-1418p469-w4-img-m.fits']]\n",
      "length: 5\n",
      "\n",
      "*allnoise*: [[], [], ['AGC004455-unwise-1285m016-w1-img-m.std.fits', 'AGC004455-unwise-1285m016-w2-img-m.std.fits', 'AGC004455-unwise-1285m016-w3-img-m.std.fits', 'AGC004455-unwise-1285m016-w4-img-m.std.fits'], ['AGC004510-unwise-w1-coadd.std.fits', 'AGC004510-unwise-w2-coadd.std.fits', 'AGC004510-unwise-w3-coadd.std.fits', 'AGC004510-unwise-w4-coadd.std.fits'], ['AGC005066-unwise-1418p469-w1-img-m.std.fits', 'AGC005066-unwise-1418p469-w2-img-m.std.fits', 'AGC005066-unwise-1418p469-w3-img-m.std.fits', 'AGC005066-unwise-1418p469-w4-img-m.std.fits']]\n",
      "length: 5\n"
     ]
    }
   ],
   "source": [
    "print(f'*allimfiles*: {allimfiles1}') \n",
    "print(f'length: {len(allimfiles1)}')\n",
    "print()\n",
    "print(f'*alljpgfiles*: {alljpgfiles1}') \n",
    "print(f'length: {len(alljpgfiles1)}')\n",
    "print()\n",
    "print(f'*allwise*: {allwise1}') \n",
    "print(f'length: {len(allwise1)}')\n",
    "print()\n",
    "print(f'*allnoise*: {allnoise1}') \n",
    "print(f'length: {len(allnoise1)}')\n",
    "# blank entries signify that the galaxy is out of the survey!"
   ]
  },
  {
   "cell_type": "code",
   "execution_count": null,
   "id": "41102e41-94d7-4561-85a9-74099c84ac3f",
   "metadata": {},
   "outputs": [],
   "source": []
  }
 ],
 "metadata": {
  "kernelspec": {
   "display_name": "Python 3 (ipykernel)",
   "language": "python",
   "name": "python3"
  },
  "language_info": {
   "codemirror_mode": {
    "name": "ipython",
    "version": 3
   },
   "file_extension": ".py",
   "mimetype": "text/x-python",
   "name": "python",
   "nbconvert_exporter": "python",
   "pygments_lexer": "ipython3",
   "version": "3.9.13"
  }
 },
 "nbformat": 4,
 "nbformat_minor": 5
}
