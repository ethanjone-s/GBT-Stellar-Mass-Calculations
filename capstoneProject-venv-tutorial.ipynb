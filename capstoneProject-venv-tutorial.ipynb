{
 "cells": [
  {
   "cell_type": "code",
   "execution_count": null,
   "id": "fc3e058f-9284-4202-b27e-22970501fbf9",
   "metadata": {},
   "outputs": [],
   "source": [
    "import os\n",
    "import sys\n",
    "import numpy as np\n",
    "import matplotlib\n",
    "matplotlib.use('Agg')\n",
    "from matplotlib import pyplot as plt\n",
    "from astropy.table import Table\n",
    "from astropy.io import fits\n",
    "from PIL import Image\n",
    "import warnings\n",
    "import glob\n",
    "warnings.filterwarnings('ignore')"
   ]
  },
  {
   "cell_type": "code",
   "execution_count": null,
   "id": "8cf6d79a-3109-40bf-907d-1c7f16b5d9f4",
   "metadata": {},
   "outputs": [],
   "source": [
    "homedir = os.getenv('HOME')\n",
    "\n",
    "sys.path.append(homedir+'/github/halphagui/')\n",
    "import photwrapper\n",
    "from image_functions import *\n",
    "\n",
    "cwd = homedir+'/Desktop/gbtresearch/'\n",
    "os.chdir(cwd)"
   ]
  },
  {
   "cell_type": "code",
   "execution_count": null,
   "id": "7587afba-239e-40cb-9808-ba85ee0d8b3d",
   "metadata": {},
   "outputs": [],
   "source": [
    "datapath = homedir+'/Desktop/gbtresearch/data/gbt22a_430_sample_legacy.fits'\n",
    "gbt = Table.read(datapath); gbt\n",
    "gbtTest=gbt[0:4]; gbtTest"
   ]
  },
  {
   "cell_type": "code",
   "execution_count": null,
   "id": "4260dad6-021b-4d65-bb9b-1183e9d3a780",
   "metadata": {},
   "outputs": [],
   "source": [
    "def getWiseFits(myGal,plotting=False,imsize=120,makeMask=True,changeSize=False):\n",
    "    '''\n",
    "    Reads in a table of galaxy coordinates to get wise/legacy images to calculate photometry; W1 phot will be converted\n",
    "    into a flux, then converted into a stellar mass.\n",
    "    \n",
    "    Inputs:\n",
    "        myGal = table entry of galactic coordinate data; needs 'name,' 'RA,' and 'DEC' columns\n",
    "        plotting = conditional to plot each photwrapper image step; default set to False\n",
    "        imsize = length/width of legacy/WISE image cutout; default set to 120; units: pixels\n",
    "        makeMask = conditional to mask off subtracted sky objects from segmentation image; default set to True\n",
    "        changeSize = conditional to search for previously made unwise images, deletes them, and remakes them with given imsize; \n",
    "                        default set to False\n",
    "    \n",
    "    RETURNS:\n",
    "        ptab = table created from output photometry file via photwrapper\n",
    "        e = photwrapper ellipse data\n",
    "    '''\n",
    "    \n",
    "    # get sky coords and galaxy AGC ID from input table\n",
    "    ra = myGal['RA']\n",
    "    dec = myGal['DEC']\n",
    "    galname = f\"AGC{myGal['name']:06d}\"\n",
    "    \n",
    "    # setting pixel scaling\n",
    "    UNWISE_PIXSCALE = 2.75\n",
    "    LEGACY_PIXSCALE = 1\n",
    "    \n",
    "    if changeSize:\n",
    "        # checks to see if unwise images were created\n",
    "        dstring=f'{galname}-unwise*'\n",
    "        flist=glob.glob(dstring)\n",
    "        # removes image if it exists in the directory\n",
    "        for f in flist:\n",
    "            if os.path.exists(f):\n",
    "                os.remove(f)\n",
    "    \n",
    "    # gets the W1-4 and legacy images for the galaxy\n",
    "    legacyImgs, wiseImgs = display_legacy_unwise(ra,dec,galname,imsize_arcsec=imsize)\n",
    "    \n",
    "    # can be changed to different bands\n",
    "    imname = wiseImgs[0]\n",
    "    \n",
    "    %matplotlib inline\n",
    "    \n",
    "    if plotting:\n",
    "    \n",
    "        print()\n",
    "    \n",
    "        plt.figure(figsize=(12,6.5))\n",
    "\n",
    "        # concatinate lists\n",
    "        imnames = ['grz','g','r','z']\n",
    "        # plot legacy images in top row\n",
    "        for i,im in enumerate(legacyImgs):\n",
    "            plt.subplot(2,4,i+1)\n",
    "            if i == 0:\n",
    "                # display jpg\n",
    "                t = Image.open(im)\n",
    "                plt.imshow(t,origin='upper')\n",
    "            else:\n",
    "                data = fits.getdata(im)\n",
    "                display_image(data,lowrange=False,percent=95)\n",
    "            plt.title(imnames[i],fontsize=14)\n",
    "\n",
    "        # plot WISE images\n",
    "        imnames = ['W1','W2','W3','W4']\n",
    "        for i,im in enumerate(wiseImgs):\n",
    "            plt.subplot(2,4,4+i+1)\n",
    "            data = fits.getdata(im)\n",
    "            display_image(data,percent=92)\n",
    "            plt.title(imnames[i],fontsize=14)\n",
    "            \n",
    "        hdu = fits.open(imname)\n",
    "        data = hdu[0].data\n",
    "        hdu.close()\n",
    "    \n",
    "        plt.figure()\n",
    "        plt.title(f'{imname}')\n",
    "        display_image(data)\n",
    "    \n",
    "    ### PHOTWRAPPER ####\n",
    "        \n",
    "    e = photwrapper.ellipse(imname)\n",
    "    \n",
    "    e.detect_objects()\n",
    "        \n",
    "    test = e.cat.to_table()\n",
    "    \n",
    "    e.find_central_object()\n",
    "    \n",
    "    if makeMask:\n",
    "        e.get_mask_from_segmentation()\n",
    "\n",
    "    e.get_ellipse_guess()\n",
    "    \n",
    "    print(); e.measure_phot()     \n",
    "    e.calc_sb()\n",
    "    e.convert_units()\n",
    "    \n",
    "    print(); e.write_phot_tables()\n",
    "    e.write_phot_fits_tables(); print()\n",
    "        \n",
    "    if plotting:\n",
    "        \n",
    "        e.show_seg_aperture()\n",
    "        e.draw_guess_ellipse_mpl()\n",
    "        e.draw_phot_apertures()\n",
    "    \n",
    "    \n",
    "    ptabName = imname.replace('.fits','-phot.fits')\n",
    "    ptab = Table.read(ptabName)\n",
    "     \n",
    "    plt.figure(figsize=(12,5))\n",
    "    \n",
    "    plt.subplot(1,2,1)\n",
    "    plt.plot(ptab['sma_arcsec'],ptab['flux'])\n",
    "    plt.title(f'{galname} $F_{{enc}}$ Vs. SMA',fontsize=16)\n",
    "    plt.xlabel(\"Semi-major axis (arcsec)\",fontsize=14)\n",
    "    plt.ylabel(\"$F_{enc}$ (erg / $cm^2$ s)\",fontsize=14)\n",
    "    \n",
    "    plt.subplot(1,2,2)\n",
    "    plt.plot(ptab['sma_arcsec'],ptab['mag'])\n",
    "    plt.title(f'{galname} Magnitude Vs. SMA',fontsize=16)\n",
    "    plt.xlabel(\"Semi-major axis (arcsec)\",fontsize=14)\n",
    "    plt.ylabel(\"Magnitude\",fontsize=14)\n",
    "    \n",
    "    print(f\"Max enclosed flux: {np.max(ptab['flux']):.2e}\")\n",
    "    print(f\"Max SMA: {np.max(ptab['sma_arcsec'])}\"); print()\n",
    "    \n",
    "    return ptab,e"
   ]
  },
  {
   "cell_type": "code",
   "execution_count": null,
   "id": "247e6656-6bd2-4436-af88-93aabc375536",
   "metadata": {
    "tags": []
   },
   "outputs": [],
   "source": [
    "ptab,e = getWiseFits(\n",
    "    \n",
    "    gbt[4], \n",
    "    \n",
    "    plotting=True,\n",
    "    \n",
    "    imsize=180, \n",
    "    \n",
    "    makeMask=True,\n",
    "    \n",
    "    changeSize=True\n",
    "    \n",
    ")"
   ]
  },
  {
   "cell_type": "code",
   "execution_count": null,
   "id": "7fad8c1e-e70a-4a6c-b893-64ec67401ea0",
   "metadata": {
    "tags": []
   },
   "outputs": [],
   "source": [
    "e.cat.to_table()"
   ]
  },
  {
   "cell_type": "code",
   "execution_count": null,
   "id": "84d32fd1-bc90-4e9e-a62f-68e7f36e2b5f",
   "metadata": {
    "tags": []
   },
   "outputs": [],
   "source": [
    "ptab"
   ]
  },
  {
   "cell_type": "markdown",
   "id": "c1e411bf-640d-4f84-8b40-c1990d2078bd",
   "metadata": {
    "jp-MarkdownHeadingCollapsed": true,
    "tags": []
   },
   "source": [
    "# Testing function"
   ]
  },
  {
   "cell_type": "code",
   "execution_count": null,
   "id": "555442d4-0394-423c-ab68-624735ce9812",
   "metadata": {
    "tags": []
   },
   "outputs": [],
   "source": [
    "ptab,e = getWiseFits(gbt[16],plotting=True,imsize=180,changeSize=False)\n",
    "print(np.max(ptab['flux']),np.max(ptab['sma_arcsec']))"
   ]
  },
  {
   "cell_type": "code",
   "execution_count": null,
   "id": "46f7df1b-aacf-4164-9873-6f0f2e83a94d",
   "metadata": {},
   "outputs": [],
   "source": [
    "import scipy.ndimage as ndi"
   ]
  },
  {
   "cell_type": "code",
   "execution_count": null,
   "id": "e9df87bd-4784-476c-a09e-b82ad3edf72d",
   "metadata": {},
   "outputs": [],
   "source": [
    "segmap=e.segmentation.data == e.cat.label[e.objectIndex]\n",
    "plt.figure()\n",
    "plt.imshow(segmap)\n",
    "\n",
    "mask_data = e.segmentation.data - segmap*e.cat.label[e.objectIndex]\n",
    "plt.figure()\n",
    "plt.imshow(mask_data)\n",
    "\n",
    "segmap_float = ndi.uniform_filter(np.float64(mask_data),size=10)\n",
    "plt.figure()\n",
    "plt.imshow(segmap_float)\n",
    "\n",
    "mask = segmap_float > 0.1\n",
    "plt.figure()\n",
    "plt.imshow(5*mask+segmap)"
   ]
  },
  {
   "cell_type": "code",
   "execution_count": null,
   "id": "d93bffdb-8663-4219-ade6-9cfcb7730a68",
   "metadata": {},
   "outputs": [],
   "source": [
    "e.cat.to_table()\n",
    "e.cat.segment_flux[0]"
   ]
  },
  {
   "cell_type": "code",
   "execution_count": null,
   "id": "2a1dd7da-8d2d-4f53-bb1c-2dbfb15499b1",
   "metadata": {},
   "outputs": [],
   "source": [
    "ptab"
   ]
  },
  {
   "cell_type": "code",
   "execution_count": null,
   "id": "72da78ba-a119-41ae-8752-891c78f0c7c0",
   "metadata": {},
   "outputs": [],
   "source": [
    "e.plot_profiles()"
   ]
  },
  {
   "cell_type": "code",
   "execution_count": null,
   "id": "fbac5c71-40b5-42e6-9d31-1243ddf141ad",
   "metadata": {},
   "outputs": [],
   "source": [
    "ptab = getLegacyfits(gbt[6],plotting=True)"
   ]
  },
  {
   "cell_type": "code",
   "execution_count": null,
   "id": "57d8ce14-ffcf-47bb-9bad-35be5616013a",
   "metadata": {},
   "outputs": [],
   "source": [
    "ptab"
   ]
  },
  {
   "cell_type": "code",
   "execution_count": null,
   "id": "ad218e9a-c82b-4f73-865d-91e59169fd2e",
   "metadata": {},
   "outputs": [],
   "source": [
    "e.segmentation"
   ]
  },
  {
   "cell_type": "code",
   "execution_count": null,
   "id": "8d5e0270-3e87-4d2e-976e-54471c2da4c8",
   "metadata": {},
   "outputs": [],
   "source": [
    "UNWISE_PIXSCALE = 2.75\n",
    "LEGACY_PIXSCALE = 1\n",
    "        \n",
    "# gets the W1-4 .fits files as well as the legacy images for the galaxy\n",
    "display_legacy_unwise(ra,dec,galname,imsize_arcsec=120)\n",
    "\n",
    "imsize_arcsec = 120 # length/width of image in arcseconds\n",
    "imsize_pixels_legacy = round(imsize_arcsec/LEGACY_PIXSCALE)\n",
    "imsize_pixels_unwise = round(imsize_arcsec/UNWISE_PIXSCALE)\n",
    "    \n",
    "# sorts the noise files from the image files that were previously downloaded\n",
    "t = get_unwise_image(ra,dec,galid=galname,makeplots=False,imsize=str(imsize_pixels_unwise))\n",
    "imagefiles = t[0]\n",
    "noisefiles = t[1]\n",
    "imagefiles.sort()\n",
    "noisefiles.sort()"
   ]
  },
  {
   "cell_type": "code",
   "execution_count": null,
   "id": "bda8cc58-56db-4d70-8e49-7ff7ea5daf65",
   "metadata": {},
   "outputs": [],
   "source": [
    "e = photwrapper.ellipse(imname)\n"
   ]
  },
  {
   "cell_type": "code",
   "execution_count": null,
   "id": "8a76d300-fe49-44ed-9337-7c504fdaece3",
   "metadata": {},
   "outputs": [],
   "source": [
    "%load_ext autoreload\n",
    "%autoreload 2\n",
    "            \n",
    "imname = f'{galname}-legacy-120-r.fits'\n",
    "\n",
    "    \n",
    "e = photwrapper.ellipse(imname)\n",
    "    \n",
    "e.detect_objects()\n",
    "    \n",
    "test = e.cat.to_table()\n",
    "    \n",
    "e.find_central_object()\n",
    "e.get_ellipse_guess()\n",
    "e.measure_phot()     \n",
    "e.calc_sb()\n",
    "e.convert_units()\n",
    "    \n",
    "e.write_phot_tables()\n",
    "e.write_phot_fits_tables(); print()\n",
    "        \n",
    "e.show_seg_aperture()\n",
    "e.draw_guess_ellipse_mpl()\n",
    "e.draw_phot_apertures()\n",
    "\n",
    "ptab = Table.read(f'{galname}-legacy-120-r-phot.fits')"
   ]
  },
  {
   "cell_type": "code",
   "execution_count": null,
   "id": "596b5584-569c-47fb-b5df-4a7b5a8c5427",
   "metadata": {},
   "outputs": [],
   "source": [
    "e.segmentation"
   ]
  },
  {
   "cell_type": "code",
   "execution_count": null,
   "id": "a105b5d3-4803-4211-ba1e-a79e6484c0dc",
   "metadata": {},
   "outputs": [],
   "source": [
    "plt.imshow(e.image,origin='lower')"
   ]
  },
  {
   "cell_type": "code",
   "execution_count": null,
   "id": "815aa86f-161f-47d5-83b8-3024c3d34690",
   "metadata": {},
   "outputs": [],
   "source": [
    "from photutils import detect_threshold, detect_sources\n",
    "\n",
    "# changing to remove deprecated function source_properties\n",
    "#from photutils import source_properties\n",
    "from photutils.segmentation import SourceCatalog"
   ]
  },
  {
   "cell_type": "code",
   "execution_count": null,
   "id": "1838c835-3ec3-4a2d-a455-5bf5ea679ac8",
   "metadata": {},
   "outputs": [],
   "source": [
    "seg=detect_sources(e.image)"
   ]
  },
  {
   "cell_type": "code",
   "execution_count": null,
   "id": "9b524bdc-ba28-4b10-86df-813b0554e71a",
   "metadata": {},
   "outputs": [],
   "source": [
    "e.threshold"
   ]
  },
  {
   "cell_type": "code",
   "execution_count": null,
   "id": "b748fea6-a34f-4836-802a-5dea96f530cd",
   "metadata": {},
   "outputs": [],
   "source": []
  }
 ],
 "metadata": {
  "kernelspec": {
   "display_name": "venv",
   "language": "python",
   "name": "venv"
  },
  "language_info": {
   "codemirror_mode": {
    "name": "ipython",
    "version": 3
   },
   "file_extension": ".py",
   "mimetype": "text/x-python",
   "name": "python",
   "nbconvert_exporter": "python",
   "pygments_lexer": "ipython3",
   "version": "3.9.13"
  }
 },
 "nbformat": 4,
 "nbformat_minor": 5
}
